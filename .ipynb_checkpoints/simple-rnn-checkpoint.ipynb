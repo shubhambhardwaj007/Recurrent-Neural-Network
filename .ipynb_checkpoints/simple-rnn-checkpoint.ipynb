{
 "cells": [
  {
   "cell_type": "code",
   "execution_count": 1,
   "id": "f51a5abc",
   "metadata": {},
   "outputs": [],
   "source": [
    "import numpy as np\n",
    "import matplotlib.pyplot as plt"
   ]
  },
  {
   "cell_type": "code",
   "execution_count": 3,
   "id": "c7cc1adf",
   "metadata": {},
   "outputs": [],
   "source": [
    "time = np.arange(0,1500)"
   ]
  },
  {
   "cell_type": "code",
   "execution_count": 6,
   "id": "b264f9b8",
   "metadata": {},
   "outputs": [
    {
     "data": {
      "text/plain": [
       "(1500,)"
      ]
     },
     "execution_count": 6,
     "metadata": {},
     "output_type": "execute_result"
    }
   ],
   "source": [
    "time.shape"
   ]
  },
  {
   "cell_type": "code",
   "execution_count": 5,
   "id": "50d139a6",
   "metadata": {},
   "outputs": [
    {
     "data": {
      "text/plain": [
       "numpy.ndarray"
      ]
     },
     "execution_count": 5,
     "metadata": {},
     "output_type": "execute_result"
    }
   ],
   "source": [
    "type(time)"
   ]
  },
  {
   "cell_type": "code",
   "execution_count": 7,
   "id": "9fd2c708",
   "metadata": {},
   "outputs": [
    {
     "data": {
      "text/plain": [
       "array([   0,    1,    2, ..., 1497, 1498, 1499])"
      ]
     },
     "execution_count": 7,
     "metadata": {},
     "output_type": "execute_result"
    }
   ],
   "source": [
    "time"
   ]
  },
  {
   "cell_type": "code",
   "execution_count": null,
   "id": "2e28d80a",
   "metadata": {},
   "outputs": [],
   "source": [
    "y = np.sin(t * 0.02)"
   ]
  },
  {
   "cell_type": "code",
   "execution_count": null,
   "id": "d1f06baf",
   "metadata": {},
   "outputs": [],
   "source": [
    "plt.plot(y,\"r\")"
   ]
  },
  {
   "cell_type": "code",
   "execution_count": null,
   "id": "df835d80",
   "metadata": {},
   "outputs": [],
   "source": [
    "np.linspace(0,100,num=10)"
   ]
  },
  {
   "cell_type": "code",
   "execution_count": null,
   "id": "17ca9944",
   "metadata": {},
   "outputs": [],
   "source": [
    "np.pi"
   ]
  },
  {
   "cell_type": "code",
   "execution_count": null,
   "id": "f95b4d3d",
   "metadata": {},
   "outputs": [],
   "source": [
    "inp = np.linspace(-np.pi , np.pi)"
   ]
  },
  {
   "cell_type": "code",
   "execution_count": null,
   "id": "3cb1ebb4",
   "metadata": {},
   "outputs": [],
   "source": [
    "inp"
   ]
  },
  {
   "cell_type": "code",
   "execution_count": null,
   "id": "14133db7",
   "metadata": {},
   "outputs": [],
   "source": [
    "opt= np.sin(inp)"
   ]
  },
  {
   "cell_type": "code",
   "execution_count": null,
   "id": "ac924d41",
   "metadata": {},
   "outputs": [],
   "source": [
    "plt.plot(opt,\"r+\")"
   ]
  },
  {
   "cell_type": "code",
   "execution_count": null,
   "id": "84f6dc2a",
   "metadata": {},
   "outputs": [],
   "source": [
    "y_with_noise = np.sin(t * 0.02) + np.random.uniform(low=-1.0,high=1.0,size=(1500,))"
   ]
  },
  {
   "cell_type": "code",
   "execution_count": null,
   "id": "3fce5b54",
   "metadata": {},
   "outputs": [],
   "source": [
    "plt.plot(y_with_noise)\n",
    "plt.plot(y)"
   ]
  },
  {
   "cell_type": "code",
   "execution_count": null,
   "id": "1b9d98dd",
   "metadata": {},
   "outputs": [],
   "source": [
    "plt.plot(y_with_noise)\n",
    "plt.axvline(1000, color=\"r\")"
   ]
  },
  {
   "cell_type": "code",
   "execution_count": null,
   "id": "16bd19ea",
   "metadata": {},
   "outputs": [],
   "source": [
    "train = y_with_noise[0:1000]"
   ]
  },
  {
   "cell_type": "code",
   "execution_count": null,
   "id": "a4a809eb",
   "metadata": {},
   "outputs": [],
   "source": [
    "train.shape"
   ]
  },
  {
   "cell_type": "code",
   "execution_count": null,
   "id": "3e2a7140",
   "metadata": {},
   "outputs": [],
   "source": [
    "test = y_with_noise[1000:]"
   ]
  },
  {
   "cell_type": "code",
   "execution_count": null,
   "id": "11f0a14f",
   "metadata": {},
   "outputs": [],
   "source": [
    "test.shape"
   ]
  },
  {
   "cell_type": "code",
   "execution_count": null,
   "id": "f77e86f3",
   "metadata": {},
   "outputs": [],
   "source": [
    "def createdataset(data,step):\n",
    "    x=[]\n",
    "    y=[]\n",
    "    for i in range(len(data)-step):\n",
    "        x.append(data[i:i+step])\n",
    "        y.append(data[i+step])\n",
    "    return np.array(x),np.array(y)"
   ]
  },
  {
   "cell_type": "code",
   "execution_count": null,
   "id": "ad03752c",
   "metadata": {},
   "outputs": [],
   "source": [
    "trainX , trainY = createdataset(train,10)"
   ]
  },
  {
   "cell_type": "code",
   "execution_count": null,
   "id": "4a4e2eca",
   "metadata": {},
   "outputs": [],
   "source": [
    "trainX.shape"
   ]
  },
  {
   "cell_type": "code",
   "execution_count": null,
   "id": "493dc0d0",
   "metadata": {},
   "outputs": [],
   "source": [
    "trainY.shape"
   ]
  },
  {
   "cell_type": "code",
   "execution_count": null,
   "id": "423bb323",
   "metadata": {},
   "outputs": [],
   "source": [
    "testX,testY = createdataset(test,10)"
   ]
  },
  {
   "cell_type": "code",
   "execution_count": null,
   "id": "0b838a01",
   "metadata": {},
   "outputs": [],
   "source": [
    "testX.shape"
   ]
  },
  {
   "cell_type": "code",
   "execution_count": null,
   "id": "4df8e6bf",
   "metadata": {},
   "outputs": [],
   "source": [
    "testY.shape"
   ]
  },
  {
   "cell_type": "code",
   "execution_count": null,
   "id": "8fdfaed0",
   "metadata": {},
   "outputs": [],
   "source": [
    "from keras import Sequential\n",
    "from keras.layers import Dense\n",
    "from keras.layers import SimpleRNN"
   ]
  },
  {
   "cell_type": "code",
   "execution_count": null,
   "id": "c72b3a0b",
   "metadata": {},
   "outputs": [],
   "source": [
    "model = Sequential()"
   ]
  },
  {
   "cell_type": "code",
   "execution_count": null,
   "id": "18024ce6",
   "metadata": {},
   "outputs": [],
   "source": [
    "model.add(\n",
    "    SimpleRNN(\n",
    "        units = 1,\n",
    "        activation=\"tanh\"\n",
    "))"
   ]
  },
  {
   "cell_type": "code",
   "execution_count": null,
   "id": "fb63a7ae",
   "metadata": {},
   "outputs": [],
   "source": [
    "model.get_config()"
   ]
  },
  {
   "cell_type": "code",
   "execution_count": null,
   "id": "8dbc3d78",
   "metadata": {},
   "outputs": [],
   "source": [
    "model.add(\n",
    "    Dense(\n",
    "        units = 1,\n",
    "        activation = \"linear\"\n",
    "))"
   ]
  },
  {
   "cell_type": "code",
   "execution_count": null,
   "id": "201035df",
   "metadata": {},
   "outputs": [],
   "source": [
    "model.get_config()"
   ]
  },
  {
   "cell_type": "code",
   "execution_count": null,
   "id": "51799441",
   "metadata": {},
   "outputs": [],
   "source": [
    "model.compile(loss=\"mean_squared_error\",optimizer='rmsprop')"
   ]
  },
  {
   "cell_type": "code",
   "execution_count": null,
   "id": "535f6fa2",
   "metadata": {},
   "outputs": [],
   "source": [
    "model.fit(trainX,trainY,epochs=50)"
   ]
  },
  {
   "cell_type": "code",
   "execution_count": null,
   "id": "58babd8e",
   "metadata": {},
   "outputs": [],
   "source": [
    "trainX.shape"
   ]
  },
  {
   "cell_type": "code",
   "execution_count": null,
   "id": "bc058f29",
   "metadata": {},
   "outputs": [],
   "source": [
    "trainY.shape"
   ]
  },
  {
   "cell_type": "code",
   "execution_count": null,
   "id": "1c2ad75f",
   "metadata": {},
   "outputs": [],
   "source": [
    "trainY = trainY.reshape((-1,1))"
   ]
  },
  {
   "cell_type": "code",
   "execution_count": null,
   "id": "49462168",
   "metadata": {},
   "outputs": [],
   "source": [
    "trainY.shape"
   ]
  },
  {
   "cell_type": "code",
   "execution_count": null,
   "id": "9786b943",
   "metadata": {},
   "outputs": [],
   "source": [
    "from sklearn.preprocessing import MinMaxScaler"
   ]
  },
  {
   "cell_type": "code",
   "execution_count": null,
   "id": "f5839d03",
   "metadata": {},
   "outputs": [],
   "source": [
    "normalizer = MinMaxScaler(feature_range=(0,1))"
   ]
  },
  {
   "cell_type": "code",
   "execution_count": null,
   "id": "2f4487f1",
   "metadata": {},
   "outputs": [],
   "source": [
    "y_with_noise = y_with_noise.reshape((-1,1))"
   ]
  },
  {
   "cell_type": "code",
   "execution_count": null,
   "id": "07c481f0",
   "metadata": {},
   "outputs": [],
   "source": [
    "y_with_noise.shape"
   ]
  },
  {
   "cell_type": "code",
   "execution_count": null,
   "id": "6a40c09e",
   "metadata": {},
   "outputs": [],
   "source": [
    "y_with_noise_final = normalizer.fit_transform(y_with_noise)"
   ]
  },
  {
   "cell_type": "code",
   "execution_count": null,
   "id": "d4e6d57a",
   "metadata": {},
   "outputs": [],
   "source": [
    "y_with_noise_final"
   ]
  },
  {
   "cell_type": "code",
   "execution_count": null,
   "id": "1fc646b8",
   "metadata": {},
   "outputs": [],
   "source": [
    "train=y_with_noise_final[0:1000]"
   ]
  },
  {
   "cell_type": "code",
   "execution_count": null,
   "id": "0c6b69fa",
   "metadata": {},
   "outputs": [],
   "source": [
    "test=y_with_noise_final[1000:]"
   ]
  },
  {
   "cell_type": "code",
   "execution_count": null,
   "id": "7dd8205d",
   "metadata": {},
   "outputs": [],
   "source": [
    "train.shape"
   ]
  },
  {
   "cell_type": "code",
   "execution_count": null,
   "id": "7c759297",
   "metadata": {},
   "outputs": [],
   "source": []
  }
 ],
 "metadata": {
  "kernelspec": {
   "display_name": "Python 3",
   "language": "python",
   "name": "python3"
  },
  "language_info": {
   "codemirror_mode": {
    "name": "ipython",
    "version": 3
   },
   "file_extension": ".py",
   "mimetype": "text/x-python",
   "name": "python",
   "nbconvert_exporter": "python",
   "pygments_lexer": "ipython3",
   "version": "3.7.10"
  }
 },
 "nbformat": 4,
 "nbformat_minor": 5
}
